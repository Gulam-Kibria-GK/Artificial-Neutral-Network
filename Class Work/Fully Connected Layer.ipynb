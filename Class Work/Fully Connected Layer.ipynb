{
 "cells": [
  {
   "cell_type": "markdown",
   "metadata": {},
   "source": [
    "#### CSE 452: Neural Networks and Fuzzy Systems Lab\n",
    "Summer-2020, Dept. of CSE, NEUB <br>"
   ]
  },
  {
   "cell_type": "markdown",
   "metadata": {},
   "source": [
    "#### Student Info\n",
    "<b>Name:</b> Gulam Kibria Chowdhury<br>\n",
    "<b>Reg. No:</b> 170103020033"
   ]
  },
  {
   "cell_type": "markdown",
   "metadata": {},
   "source": [
    "### Assignment 5: Fully Connected Layer"
   ]
  },
  {
   "cell_type": "code",
   "execution_count": 1,
   "metadata": {},
   "outputs": [],
   "source": [
    "import numpy as np\n",
    "import matplotlib.pyplot as plt\n",
    "from sklearn.model_selection import train_test_split \n",
    "from sklearn.metrics import classification_report, confusion_matrix ,  accuracy_score\n",
    "from sklearn import datasets\n",
    "import math"
   ]
  },
  {
   "cell_type": "markdown",
   "metadata": {},
   "source": [
    "<b>Toy data</b>"
   ]
  },
  {
   "cell_type": "code",
   "execution_count": 2,
   "metadata": {},
   "outputs": [
    {
     "name": "stdout",
     "output_type": "stream",
     "text": [
      "(6, 2) (6, 2)\n"
     ]
    }
   ],
   "source": [
    "X=np.array([[1, 2], [4, 5], [12, 7], [16, 10], [20, 5], [5, 8]  ])\n",
    "y=np.array([[0,1], [0,1], [1,0], [1,0],  [0,1], [1,0] ])\n",
    "print(X.shape, y.shape)"
   ]
  },
  {
   "cell_type": "code",
   "execution_count": 3,
   "metadata": {},
   "outputs": [
    {
     "name": "stdout",
     "output_type": "stream",
     "text": [
      "[[0 1]\n",
      " [0 1]\n",
      " [1 0]\n",
      " [1 0]\n",
      " [0 1]\n",
      " [1 0]]\n"
     ]
    }
   ],
   "source": [
    "print(y)"
   ]
  },
  {
   "cell_type": "markdown",
   "metadata": {},
   "source": [
    "<b>Softmax</b>\n",
    "$$Let, a=[a_0, a_1, a_2, ..]$$\n",
    "$$S_i=\\frac{e^{a_i}}{\\sum_{k=0}^{N} {e^{a_k}}}$$"
   ]
  },
  {
   "cell_type": "markdown",
   "metadata": {},
   "source": [
    "<b>Task 1: Implement Softmax</b> <br>\n",
    "1. Implement both ways: Using loop and Without using loop. <br>\n",
    "2. What challanges did you face?\n",
    "3. Check output manually."
   ]
  },
  {
   "cell_type": "code",
   "execution_count": 4,
   "metadata": {
    "scrolled": true
   },
   "outputs": [
    {
     "name": "stdout",
     "output_type": "stream",
     "text": [
      "[[1.2 1.6]\n",
      " [2.4 3.4]\n",
      " [3.8 5.8]\n",
      " [5.1 7.8]\n",
      " [4.  6.6]\n",
      " [3.4 4.8]]\n"
     ]
    }
   ],
   "source": [
    "z=np.array( [ [1.2, 1.6], [2.4, 3.4],  [3.8, 5.8],  [5.1, 7.8],  [4. , 6.6],   [3.4, 4.8]])\n",
    "print(z)"
   ]
  },
  {
   "cell_type": "markdown",
   "metadata": {},
   "source": [
    "## Implement Softmax Using loop.......... "
   ]
  },
  {
   "cell_type": "code",
   "execution_count": 5,
   "metadata": {},
   "outputs": [
    {
     "name": "stdout",
     "output_type": "stream",
     "text": [
      "[[0.40131234 0.59868766]\n",
      " [0.26894142 0.73105858]\n",
      " [0.11920292 0.88079708]\n",
      " [0.06297336 0.93702664]\n",
      " [0.06913842 0.93086158]\n",
      " [0.19781611 0.80218389]]\n"
     ]
    }
   ],
   "source": [
    "#your code goes here.\n",
    "#a=softmax(z)\n",
    "\n",
    "#Using loop.......... \n",
    "def sig(a):\n",
    "    dd=math.exp(a[0])+math.exp(a[1])\n",
    "    return [math.exp(a[0])/dd,math.exp(a[1])/dd];\n",
    "\n",
    "A=[]\n",
    "for i in z:\n",
    "    A.append(sig(i))\n",
    "    \n",
    "A=np.array(A)\n",
    "print(A)"
   ]
  },
  {
   "cell_type": "markdown",
   "metadata": {},
   "source": [
    "## Implement Softmax Without using loop......."
   ]
  },
  {
   "cell_type": "code",
   "execution_count": 6,
   "metadata": {},
   "outputs": [
    {
     "name": "stdout",
     "output_type": "stream",
     "text": [
      "[[0.40131234 0.59868766]\n",
      " [0.26894142 0.73105858]\n",
      " [0.11920292 0.88079708]\n",
      " [0.06297336 0.93702664]\n",
      " [0.06913842 0.93086158]\n",
      " [0.19781611 0.80218389]]\n"
     ]
    }
   ],
   "source": [
    "zz=np.transpose(z)\n",
    "e_x = np.exp(zz - np.max(zz))\n",
    "A=e_x / e_x.sum(axis=0)\n",
    "A=np.transpose(A)\n",
    "\n",
    "print(A) "
   ]
  },
  {
   "cell_type": "markdown",
   "metadata": {},
   "source": [
    "# Task_1 complete .................."
   ]
  },
  {
   "cell_type": "markdown",
   "metadata": {},
   "source": [
    "<b>Task 2: calculate feedforward output</b><br><br>\n",
    "$A=softmax(X.w+b)$\n",
    "\n",
    "Output should look like the following. <br>\n",
    "\n",
    "[[0.401 0.599] <br>\n",
    " [0.269 0.731] <br>\n",
    " [0.119 0.881] <br>\n",
    " [0.063 0.937] <br>\n",
    " [0.069 0.931] <br>\n",
    " [0.198 0.802]]"
   ]
  },
  {
   "cell_type": "code",
   "execution_count": 7,
   "metadata": {},
   "outputs": [],
   "source": [
    "b=np.array([0.5, 0.6])\n",
    "w=np.array([ [0.1,0.2], [0.3,0.4] ])"
   ]
  },
  {
   "cell_type": "code",
   "execution_count": 8,
   "metadata": {},
   "outputs": [
    {
     "name": "stdout",
     "output_type": "stream",
     "text": [
      "[[0.40131234 0.59868766]\n",
      " [0.26894142 0.73105858]\n",
      " [0.11920292 0.88079708]\n",
      " [0.06297336 0.93702664]\n",
      " [0.06913842 0.93086158]\n",
      " [0.19781611 0.80218389]]\n"
     ]
    }
   ],
   "source": [
    "#your code goes here.\n",
    "\n",
    "z=np.dot(X,w)+b\n",
    "\n",
    "zz=np.transpose(z)\n",
    "e_x = np.exp(zz - np.max(zz))\n",
    "A=e_x / e_x.sum(axis=0)\n",
    "A=np.transpose(A)\n",
    "\n",
    "print(A)"
   ]
  },
  {
   "cell_type": "markdown",
   "metadata": {},
   "source": [
    "# Task_2 complete .................."
   ]
  },
  {
   "cell_type": "markdown",
   "metadata": {},
   "source": [
    "<b>Task 3: calculate log loss</b><br><br> \n",
    "Note: <b>without using any loop.</b> <br>\n",
    "$$L_i = - y_i* \\sum \\log (A_i)$$\n",
    "\\begin{equation*}\n",
    "L =\\frac{1}{N} \\sum_i L_i \n",
    "\\end{equation*}\n",
    "\n",
    "Output should look like the following. <br>\n",
    "Loss: [0.513 0.313 2.127 2.765 0.072 1.62 ] <br>\n",
    "average loss: 1.2351"
   ]
  },
  {
   "cell_type": "code",
   "execution_count": 9,
   "metadata": {},
   "outputs": [
    {
     "name": "stdout",
     "output_type": "stream",
     "text": [
      "loss         :-> [0.51301525 0.31326169 2.12692801 2.76504356 0.07164469 1.62041741]\n",
      "average loss :-> 1.2350517691039766\n"
     ]
    }
   ],
   "source": [
    "#your code goes here.\n",
    "\n",
    "loss=-np.sum( y*np.log(A) , axis=1)\n",
    "print(\"loss         :->\",loss)\n",
    "\n",
    "print(\"average loss :->\",np.sum(loss)/len(loss))\n"
   ]
  },
  {
   "cell_type": "markdown",
   "metadata": {},
   "source": [
    "# Task_3 complete .................."
   ]
  },
  {
   "cell_type": "markdown",
   "metadata": {},
   "source": [
    "<b>Task 4: calculate gradient</b><br>\n",
    "Note: <b>calculate dz, dw, db without using loop</b> </br>\n",
    "$$dz=A-y$$ \n",
    "$$dw=\\frac{1}{N} ( X^T.dz )$$   \n",
    "$$db=\\frac{1}{N} \\sum dz $$ \n",
    "\n",
    "Dimension check: y-yh= (2xN).(NX2)=(2x2) \n",
    "\n",
    "dw should look like below, <br>\n",
    "[[-4.452,  4.452], <br>\n",
    "[-3.243,  3.243]])\n",
    "\n",
    "db should look like below<br>\n",
    "[[-0.313,  0.313]]"
   ]
  },
  {
   "cell_type": "code",
   "execution_count": 10,
   "metadata": {},
   "outputs": [
    {
     "name": "stdout",
     "output_type": "stream",
     "text": [
      "DZ------>\n",
      "[[ 0.40131234 -0.40131234]\n",
      " [ 0.26894142 -0.26894142]\n",
      " [-0.88079708  0.88079708]\n",
      " [-0.93702664  0.93702664]\n",
      " [ 0.06913842 -0.06913842]\n",
      " [-0.80218389  0.80218389]]\n",
      "\n",
      "DW------>\n",
      "[[-4.45217737  4.45217737]\n",
      " [-3.2433822   3.2433822 ]]\n",
      "\n",
      "DZ------->\n",
      "[-0.3134359  0.3134359]\n"
     ]
    }
   ],
   "source": [
    "#your code goes here.\n",
    "dz=A-y\n",
    "print(\"DZ------>\")\n",
    "print(dz) \n",
    "\n",
    "print(\"\\nDW------>\")\n",
    "dw=np.dot(np.transpose(X),dz)\n",
    "print(dw/len(dz))\n",
    "\n",
    "print(\"\\nDZ------->\")\n",
    "db=sum(dz)/len(dz)\n",
    "print(db)"
   ]
  },
  {
   "cell_type": "markdown",
   "metadata": {},
   "source": [
    "# Task_4 complete .................."
   ]
  },
  {
   "cell_type": "markdown",
   "metadata": {},
   "source": [
    "<b>Task 5: Train the network using gradient descent optimization</b>"
   ]
  },
  {
   "cell_type": "code",
   "execution_count": 11,
   "metadata": {},
   "outputs": [],
   "source": [
    "lr=0.01\n",
    "epoch=1000"
   ]
  },
  {
   "cell_type": "code",
   "execution_count": 12,
   "metadata": {},
   "outputs": [],
   "source": [
    "#init w and b randomly.\n",
    "D=X.shape[1]\n",
    "C=y.shape[1]\n",
    "w = 0.01 * np.random.randn(D,C)\n",
    "b = np.zeros((1,C))"
   ]
  },
  {
   "cell_type": "markdown",
   "metadata": {},
   "source": [
    " 1. Init w and b randomly\n",
    " 2. repeat the following\n",
    "     3. calculate feedforward output\n",
    "     4. calculate gradient\n",
    "     5. update w and b (w=w-lr\\*dw,  b=b-lr*db)\n",
    "     6. calculate loss and keep track.\n",
    "\n",
    "7. After training plot the loss\n",
    "8. test prediction on the X data"
   ]
  },
  {
   "cell_type": "code",
   "execution_count": 13,
   "metadata": {},
   "outputs": [
    {
     "name": "stdout",
     "output_type": "stream",
     "text": [
      "Weights\n",
      "  [[-0.04898945  0.06087997]\n",
      " [ 0.2864857  -0.29434598]]\n",
      "\n",
      "bias \n",
      " [[-1.04390841  1.04390841]]\n"
     ]
    }
   ],
   "source": [
    "#your code goes here.\n",
    "\n",
    "all_loss=[]\n",
    "while(epoch):\n",
    "    epoch-=1\n",
    "    z=np.dot(X,w)+b\n",
    "    \n",
    "    zz=np.transpose(z)\n",
    "    e_x = np.exp(zz - np.max(zz))\n",
    "    A=e_x / e_x.sum(axis=0)\n",
    "    A=np.transpose(A)\n",
    "    \n",
    "    dz=A-y\n",
    "    dw=np.dot(np.transpose(X),dz)\n",
    "    dw=dw/len(dz)\n",
    "    db=sum(dz)/len(dz)\n",
    "    \n",
    "    w=w-lr*dw\n",
    "    b=b-lr*db\n",
    "    \n",
    "    loss=-np.sum( y*np.log(A) , axis=1)\n",
    "    avg_los=np.sum(loss)/len(loss)\n",
    "    all_loss.append(avg_los)\n",
    "\n",
    "print(\"Weights\\n \",w)\n",
    "print(\"\\nbias \\n\", b) \n"
   ]
  },
  {
   "cell_type": "code",
   "execution_count": 14,
   "metadata": {},
   "outputs": [
    {
     "name": "stdout",
     "output_type": "stream",
     "text": [
      "plot the loss\n"
     ]
    },
    {
     "data": {
      "image/png": "[encoded data removed]",
      "text/plain": [
       "<Figure size 432x288 with 1 Axes>"
      ]
     },
     "metadata": {
      "needs_background": "light"
     },
     "output_type": "display_data"
    }
   ],
   "source": [
    "#print(all_loss)\n",
    "print(\"plot the loss\")\n",
    "plt.plot(all_loss)\n",
    "plt.show()"
   ]
  },
  {
   "cell_type": "markdown",
   "metadata": {},
   "source": [
    "### Prediction on the X data"
   ]
  },
  {
   "cell_type": "code",
   "execution_count": 15,
   "metadata": {},
   "outputs": [
    {
     "name": "stdout",
     "output_type": "stream",
     "text": [
      "[[0.26191811 0.73808189]\n",
      " [0.59311649 0.40688351]\n",
      " [0.6591642  0.3408358 ]\n",
      " [0.87681289 0.12318711]\n",
      " [0.20084091 0.79915909]\n",
      " [0.88178982 0.11821018]]\n"
     ]
    }
   ],
   "source": [
    "z=np.dot(X,w)+b\n",
    "\n",
    "zz=np.transpose(z)\n",
    "e_x = np.exp(zz - np.max(zz))\n",
    "A=e_x / e_x.sum(axis=0)\n",
    "A=np.transpose(A)\n",
    "\n",
    "print(A)"
   ]
  },
  {
   "cell_type": "code",
   "execution_count": 16,
   "metadata": {},
   "outputs": [
    {
     "name": "stdout",
     "output_type": "stream",
     "text": [
      "predicted \n",
      " [[0. 1.]\n",
      " [1. 0.]\n",
      " [1. 0.]\n",
      " [1. 0.]\n",
      " [0. 1.]\n",
      " [1. 0.]]\n",
      "\n",
      "Original \n",
      " [[0 1]\n",
      " [0 1]\n",
      " [1 0]\n",
      " [1 0]\n",
      " [0 1]\n",
      " [1 0]]\n",
      "\n",
      "Accuracy :->  83.33333333333334 %\n"
     ]
    }
   ],
   "source": [
    "k=0\n",
    "for i in A:\n",
    "    idx=i.tolist().index(max(i))\n",
    "    A[k]=([0 if j!=idx else 1 for j in range(len(i))])\n",
    "    k+=1\n",
    "\n",
    "\n",
    "print(\"predicted \\n\",A)\n",
    "print()\n",
    "print(\"Original \\n\",y)\n",
    "\n",
    "cunt=0\n",
    "for i,j in zip(A,y):\n",
    "    result= i==j\n",
    "    #print(result)\n",
    "    if(all(result)):\n",
    "        cunt+=1\n",
    "\n",
    "#print(cunt)\n",
    "print()\n",
    "print(\"Accuracy :-> \",(cunt/len(y))*100,\"%\")\n"
   ]
  },
  {
   "cell_type": "markdown",
   "metadata": {},
   "source": [
    "# Task_5 complete .................."
   ]
  },
  {
   "cell_type": "markdown",
   "metadata": {},
   "source": [
    "<b>Digits Data</b>"
   ]
  },
  {
   "cell_type": "code",
   "execution_count": 17,
   "metadata": {},
   "outputs": [],
   "source": [
    "datas=datasets.load_digits()\n",
    "data=datas['data']\n",
    "label=datas['target'] "
   ]
  },
  {
   "cell_type": "code",
   "execution_count": 18,
   "metadata": {},
   "outputs": [
    {
     "name": "stdout",
     "output_type": "stream",
     "text": [
      "Training shape: (1437, 64) (1437,)\n",
      "Testing shape: (360, 64) (360,)\n"
     ]
    }
   ],
   "source": [
    "X,X_test, y, y_test=train_test_split(data, label, test_size = 0.2)\n",
    "print('Training shape:', X.shape, y.shape)\n",
    "print('Testing shape:',X_test.shape, y_test.shape)"
   ]
  },
  {
   "cell_type": "code",
   "execution_count": 19,
   "metadata": {},
   "outputs": [
    {
     "name": "stdout",
     "output_type": "stream",
     "text": [
      "1437 64\n"
     ]
    }
   ],
   "source": [
    "N,D=X.shape            #num_data, data_dimension\n",
    "C=np.max(y)+1          #number of classes\n",
    "print(N,D)"
   ]
  },
  {
   "cell_type": "code",
   "execution_count": 20,
   "metadata": {},
   "outputs": [
    {
     "data": {
      "text/plain": [
       "10"
      ]
     },
     "execution_count": 20,
     "metadata": {},
     "output_type": "execute_result"
    }
   ],
   "source": [
    "C"
   ]
  },
  {
   "cell_type": "code",
   "execution_count": 21,
   "metadata": {},
   "outputs": [
    {
     "data": {
      "text/plain": [
       "array([9, 2, 3, ..., 9, 1, 6])"
      ]
     },
     "execution_count": 21,
     "metadata": {},
     "output_type": "execute_result"
    }
   ],
   "source": [
    "y"
   ]
  },
  {
   "cell_type": "markdown",
   "metadata": {},
   "source": [
    "<b>Task 6: Train on the digits data [Note: y is not one-hot vector now]</b>\n",
    "1. Train a two layer[Input, Output] network\n",
    "2. Plot loss, tune learning rate, number of epochs\n",
    "3. predict on test data and show accuracy.  [accuracy should be above 90%]\n",
    "4. Play with the learning rate and number of epochs [try few values]"
   ]
  },
  {
   "cell_type": "code",
   "execution_count": 22,
   "metadata": {},
   "outputs": [
    {
     "name": "stdout",
     "output_type": "stream",
     "text": [
      "y_onehot [[0. 0. 0. ... 0. 0. 1.]\n",
      " [0. 0. 1. ... 0. 0. 0.]\n",
      " [0. 0. 0. ... 0. 0. 0.]\n",
      " ...\n",
      " [0. 0. 0. ... 0. 0. 1.]\n",
      " [0. 1. 0. ... 0. 0. 0.]\n",
      " [0. 0. 0. ... 0. 0. 0.]]\n",
      "\n",
      "y_test_onehot\n",
      " [[0. 0. 0. ... 0. 0. 0.]\n",
      " [0. 1. 0. ... 0. 0. 0.]\n",
      " [0. 0. 0. ... 0. 0. 0.]\n",
      " ...\n",
      " [0. 0. 0. ... 1. 0. 0.]\n",
      " [1. 0. 0. ... 0. 0. 0.]\n",
      " [0. 0. 1. ... 0. 0. 0.]]\n"
     ]
    }
   ],
   "source": [
    "#your code goes here.\n",
    "#init w and b randomly.\n",
    "w = 0.01 * np.random.randn(D,C)\n",
    "b = np.zeros((1,C))\n",
    "\n",
    "#print(w)\n",
    "#print(b)\n",
    "\n",
    "y_onehot=np.zeros((N, C))\n",
    "y_onehot[ range(N), y]=1\n",
    "print(\"y_onehot\",y_onehot)\n",
    "\n",
    "N,D=X_test.shape \n",
    "y_test_onehot=np.zeros((N, C))\n",
    "y_test_onehot[ range(N), y_test]=1\n",
    "print(\"\\ny_test_onehot\\n\",y_test_onehot)\n",
    "\n",
    "\n"
   ]
  },
  {
   "cell_type": "code",
   "execution_count": 23,
   "metadata": {},
   "outputs": [
    {
     "name": "stdout",
     "output_type": "stream",
     "text": [
      "Weights\n",
      "  [[-9.99084785e-03 -4.76077457e-03 -6.49696705e-03  8.75355327e-03\n",
      "   8.08828658e-03  7.38613175e-03 -1.45654257e-02 -1.25935565e-02\n",
      "   1.71898377e-02  1.13627148e-02]\n",
      " [-1.10169786e-02 -1.88669332e-02  4.66598591e-03  8.92424818e-03\n",
      "  -1.94253445e-02  2.90837526e-02  6.20091266e-03  1.58263122e-02\n",
      "  -1.77300924e-02 -2.44110345e-02]\n",
      " [-5.98900278e-03 -5.53984457e-02  3.73215349e-02 -2.98063023e-02\n",
      "  -7.47413716e-02  1.64552095e-01 -8.17669359e-02  3.08094248e-02\n",
      "  -4.47717317e-03 -2.20690346e-02]\n",
      " [ 4.61600490e-02  2.01654043e-02  2.38376054e-02  5.76232997e-02\n",
      "  -1.12192396e-01 -1.22532106e-02 -4.95799851e-02  6.29335196e-02\n",
      "  -8.30046924e-02  7.97760538e-02]\n",
      " [-6.44636602e-03 -2.39727638e-01  1.52570794e-02  1.66473351e-01\n",
      "  -5.05295998e-02  1.03696999e-02 -3.50358287e-02  8.28126493e-02\n",
      "   1.57647921e-02  3.51214441e-02]\n",
      " [-7.63773882e-02  1.11397785e-01 -3.78121519e-02  8.07040020e-02\n",
      "  -1.46658765e-01  1.50943037e-01 -5.15719039e-02  5.25152227e-02\n",
      "  -3.12152945e-02 -4.64986672e-02]\n",
      " [-5.22475721e-02  9.00632304e-03 -2.45301971e-02  2.98179502e-02\n",
      "  -8.09370932e-02  1.19367633e-01 -9.23604622e-03  9.37439171e-02\n",
      "  -8.66144146e-02  1.84828474e-02]\n",
      " [-4.57085310e-05 -1.57757759e-02  6.42918373e-04 -7.43030483e-03\n",
      "   2.66621073e-02 -2.51853643e-02 -1.09314786e-02  2.70070103e-02\n",
      "  -2.20162042e-02 -1.20319880e-02]\n",
      " [-1.64818566e-03  5.45748143e-03 -1.60809953e-02 -4.84578406e-03\n",
      "  -2.80690478e-04 -2.63703994e-03 -2.87637194e-03  6.40218030e-03\n",
      "  -1.21589618e-02 -1.07894467e-02]\n",
      " [-3.31981887e-02 -8.67478243e-02  7.09386095e-02  2.89502889e-02\n",
      "  -6.74770815e-04 -1.45241487e-02 -6.96638687e-02  1.90124369e-02\n",
      "  -1.00221251e-02  7.36418660e-02]\n",
      " [-1.03447065e-02 -1.73426232e-01  3.06330392e-02  7.70695695e-02\n",
      "  -8.72455421e-02  9.20730638e-02 -7.64885125e-02  2.86415075e-02\n",
      "   3.64939929e-02  3.80156690e-02]\n",
      " [ 4.25627543e-02 -4.89782140e-02 -2.31311156e-02 -6.87854259e-03\n",
      "  -3.35230481e-02  5.22501570e-02  9.83880616e-03  5.08694201e-02\n",
      "  -1.61245792e-02  2.80620719e-02]\n",
      " [ 3.87182683e-02  3.64663489e-02  8.91967702e-02  3.81079489e-02\n",
      "  -9.21294481e-02 -1.21152762e-02 -1.08217122e-01  1.66459122e-01\n",
      "  -1.12377651e-01 -5.01848034e-02]\n",
      " [ 5.73522718e-02 -1.72595855e-02 -9.82715865e-03  7.92674943e-02\n",
      "  -8.48999017e-02 -5.91312392e-02 -7.57672293e-02  4.38970492e-03\n",
      "   7.71874132e-02  3.16499840e-02]\n",
      " [-3.96155905e-02 -8.85193709e-02  2.11119403e-04  7.62522338e-02\n",
      "  -4.38280908e-02 -7.33423320e-03 -1.98342149e-02  2.50165678e-02\n",
      "   2.05273118e-02  5.65253507e-02]\n",
      " [ 3.93765693e-03  7.25257382e-03 -1.29314934e-02 -4.65052994e-04\n",
      "  -1.09487525e-02 -7.78967370e-03  9.54758028e-03  2.47621078e-02\n",
      "  -4.57813845e-03 -1.07047362e-02]\n",
      " [-5.96921234e-03  9.29979407e-04  1.56777162e-03  5.10242964e-03\n",
      "   5.53997678e-04  3.73989365e-03 -1.03830589e-02 -7.41272404e-03\n",
      "  -5.24141483e-03  6.86088413e-03]\n",
      " [ 3.20453556e-02  6.19313441e-02 -3.42000193e-03  4.32533387e-03\n",
      "  -2.48350797e-04  4.34014097e-03 -6.29396015e-02 -7.91009681e-02\n",
      "   4.51209394e-02  3.62461431e-02]\n",
      " [ 7.86249936e-02 -1.16230272e-02 -5.92690066e-02 -2.14251206e-01\n",
      "   4.79131699e-02  9.38426250e-02  5.74740829e-02 -1.26239650e-01\n",
      "   8.75366506e-02  8.60848997e-02]\n",
      " [-1.77282420e-02  2.27130042e-01 -9.57028522e-02 -1.93064304e-01\n",
      "   7.59355530e-02  4.42118265e-03  2.83092683e-02 -7.95971639e-02\n",
      "   2.18964220e-02  6.49247949e-03]\n",
      " [-1.28487570e-01  1.77974323e-01  6.52884145e-02  5.18762130e-02\n",
      "   3.52021007e-02 -1.51298803e-01 -1.29849707e-01  1.40170607e-02\n",
      "   7.82016448e-03  6.12600341e-02]\n",
      " [ 9.71801287e-02 -3.92498187e-02  2.09417045e-03 -6.52541164e-02\n",
      "  -6.33320027e-03 -2.10187366e-01 -1.64912665e-01  4.53617231e-02\n",
      "   1.06022450e-01  2.10626401e-01]\n",
      " [ 3.61841175e-02 -3.04715385e-02  4.22658048e-02 -1.86481806e-02\n",
      "   2.77885600e-02 -1.47071970e-01 -3.05771741e-02  6.86704809e-02\n",
      "   2.48675997e-02  3.04292972e-02]\n",
      " [-2.76874704e-02 -1.09161182e-02 -4.36091399e-03  9.01206690e-03\n",
      "   2.56872306e-04  1.01025481e-02  9.72888552e-04 -4.10123144e-03\n",
      "   1.32602986e-02 -2.20989359e-02]\n",
      " [ 1.35152202e-02  2.67866449e-03 -1.43890482e-03  6.47967844e-03\n",
      "   4.29200965e-03  7.93794419e-03  1.13904528e-02  1.14314173e-02\n",
      "   1.86455713e-03  1.33886720e-03]\n",
      " [ 3.84747798e-02 -1.99439001e-02 -4.70871834e-02 -1.56375950e-02\n",
      "   6.45366805e-02  6.81613991e-02  3.32161851e-02 -5.85535734e-02\n",
      "  -2.85384471e-02  7.19505112e-03]\n",
      " [ 5.33026383e-02  2.12578106e-02 -2.13359953e-01 -1.76548088e-01\n",
      "   1.42136666e-01  1.15351338e-01  5.08880501e-02 -3.84294554e-02\n",
      "  -4.76369090e-02  6.74681377e-02]\n",
      " [-9.23657899e-02  8.46764472e-02 -1.99745092e-01 -2.49937990e-02\n",
      "  -1.82964040e-02 -2.07731540e-02  1.67111271e-02 -9.40958898e-02\n",
      "   1.63374548e-01  1.77088366e-01]\n",
      " [-2.30555839e-01  4.80569540e-02 -5.70251721e-02  1.01637366e-01\n",
      "  -3.74223296e-03  7.67403070e-02 -2.78968155e-02  7.56079533e-04\n",
      "  -1.77647788e-03  9.53016074e-02]\n",
      " [ 1.34140016e-02  3.74559725e-02  1.28571579e-03 -1.66962327e-01\n",
      "   4.23264500e-02 -5.33739216e-02 -2.91298732e-02  1.08400251e-01\n",
      "  -2.78291424e-02  9.89092087e-02]\n",
      " [ 5.90051803e-02 -4.71590752e-02  7.06697274e-03 -1.02811118e-01\n",
      "   1.89854831e-01 -8.66594435e-02 -6.98691753e-02  8.12360622e-02\n",
      "  -4.97010737e-02  2.30140847e-02]\n",
      " [-1.83737122e-02 -8.82120597e-03  1.48393341e-02  1.43368462e-02\n",
      "  -1.20909966e-02  2.05234639e-02 -2.65759690e-03 -5.26714159e-03\n",
      "  -1.90320442e-02 -1.33938324e-02]\n",
      " [ 1.07184038e-02  1.02004444e-03 -2.52699429e-03  2.40846122e-02\n",
      "  -2.16055026e-02  7.27397483e-04 -1.45094085e-02  9.18579225e-03\n",
      "  -1.25688947e-02  4.79158274e-03]\n",
      " [ 7.09624528e-02  5.59549689e-03 -3.30114053e-02 -4.27171836e-02\n",
      "   1.06498729e-01 -1.45471959e-02  4.97055680e-02  2.01425612e-02\n",
      "  -5.88887631e-02 -8.57082932e-02]\n",
      " [ 8.04390057e-02  3.69731453e-02 -1.74162006e-01 -8.57887399e-02\n",
      "   1.01178797e-01  3.90373451e-02  8.66702455e-02  1.08116018e-03\n",
      "  -5.73608664e-02 -5.93833847e-02]\n",
      " [-1.00967279e-01 -3.95941298e-02 -3.53227906e-02 -2.56725250e-03\n",
      "  -3.93919681e-02 -6.83317486e-02  8.35188960e-02 -4.77096466e-05\n",
      "   1.40101653e-01  6.68841782e-02]\n",
      " [-1.96620126e-01  3.12360746e-02 -8.60149378e-03  9.64604659e-02\n",
      "   9.52505304e-02 -5.98366520e-02 -1.87297700e-02  4.11869683e-02\n",
      "   3.60297088e-02 -1.06663454e-01]\n",
      " [ 2.04880999e-02  8.80821191e-03 -1.10994819e-01  1.84961106e-03\n",
      "   8.75022775e-02  2.20326275e-02  4.82537358e-03  1.31633795e-01\n",
      "  -1.24338048e-01 -3.21070208e-02]\n",
      " [ 3.61036544e-02 -6.56374443e-02 -7.04121101e-02 -1.29752695e-02\n",
      "   1.01560981e-01  5.84446330e-02  1.03492509e-02  9.43027799e-02\n",
      "  -1.25666068e-01 -7.01727787e-03]\n",
      " [-6.22279987e-03 -2.43322195e-02  1.10813066e-02  4.12564839e-03\n",
      "   1.12665340e-02 -2.08202539e-02  1.35601174e-02 -9.22341010e-03\n",
      "  -8.99455629e-04  3.88390155e-03]\n",
      " [ 7.12533366e-03 -6.59401610e-03 -8.79082245e-03 -7.40960214e-03\n",
      "  -1.93360141e-02 -2.20017201e-03 -1.00975787e-02 -1.36084755e-02\n",
      "   7.85069273e-03 -1.16057848e-02]\n",
      " [ 1.89896556e-02 -7.37429888e-02  3.57244795e-02 -3.44154243e-04\n",
      "   1.60352306e-01 -4.72975501e-02 -1.29603603e-02  1.36846209e-02\n",
      "  -2.56000812e-02 -2.75929844e-02]\n",
      " [ 1.14356284e-01 -3.05252648e-02  1.57162452e-02 -1.00119223e-01\n",
      "   5.17964609e-03 -1.37297213e-01  1.95013762e-01 -1.49311790e-02\n",
      "   9.46636889e-02 -1.84211994e-01]\n",
      " [-8.19198687e-02  9.19242747e-02  1.62719507e-01 -1.75187587e-01\n",
      "   1.52581443e-01 -8.33765605e-02  8.27359368e-02  7.30877727e-02\n",
      "   5.58124807e-02 -2.74022788e-01]\n",
      " [-6.20265173e-02  4.47700096e-02 -9.53289020e-02 -5.76844414e-03\n",
      "   1.69143559e-01 -3.42339237e-02  9.36147110e-03  5.28482742e-02\n",
      "   5.99720491e-02 -1.35852315e-01]\n",
      " [ 3.64474776e-02 -6.75307407e-02 -1.63459679e-01  9.49507041e-02\n",
      "   4.58018376e-02  2.81430288e-02  9.49560861e-03 -7.06659000e-03\n",
      "   6.84277297e-02 -6.64703146e-02]\n",
      " [ 3.59489844e-02 -1.53106749e-01 -6.53230884e-02  1.34148029e-01\n",
      "   1.63363918e-02  3.27667727e-02  9.07937630e-02 -1.49709156e-02\n",
      "  -1.08629525e-02 -3.19067664e-02]\n",
      " [-3.66539577e-03  1.14695644e-02 -8.51141671e-04 -6.89277658e-03\n",
      "   3.47630564e-03  8.58935509e-03  1.54042581e-02 -2.88741405e-03\n",
      "  -1.64700169e-02  4.26217532e-03]\n",
      " [-6.91584619e-03 -1.46192991e-02  4.36591354e-03 -3.93273262e-03\n",
      "   1.16005291e-02  1.45722421e-02  3.91525936e-03 -2.81798679e-02\n",
      "   6.15361488e-04 -2.98591122e-03]\n",
      " [-3.21977400e-02 -3.77938910e-02  5.79005770e-02  8.55125339e-03\n",
      "   6.26783232e-02 -2.95368037e-03 -4.96574394e-02 -2.04093035e-03\n",
      "   2.25314181e-03  2.90004323e-02]\n",
      " [ 6.27506140e-02 -2.87243042e-02  3.84987879e-02 -1.94281463e-02\n",
      "  -7.05264658e-02 -2.91948085e-02  6.94382013e-02 -3.36288352e-02\n",
      "   8.00527519e-02 -5.56840599e-02]\n",
      " [ 9.47619766e-03  4.56382721e-02  1.94891617e-01 -7.61880260e-02\n",
      "   3.68356700e-02 -8.70093341e-02  5.97299065e-02  4.26412003e-02\n",
      "  -1.21127583e-01 -8.24461055e-02]\n",
      " [ 4.97963451e-02  1.00725076e-01  1.29054537e-01  6.22440073e-02\n",
      "   5.07581398e-02  1.49151605e-02 -4.71986259e-02 -1.19739174e-01\n",
      "  -1.22612585e-01 -8.17846733e-02]\n",
      " [ 1.91448896e-02 -1.42378038e-02  1.43149713e-01  6.08886588e-02\n",
      "  -1.06489212e-01  1.94743369e-02  9.16925823e-02 -1.78730328e-01\n",
      "   6.88247161e-02 -6.16379224e-02]\n",
      " [-1.48155099e-02 -6.44932780e-02  7.37138015e-02  1.27953642e-01\n",
      "  -6.26939278e-02 -6.85501623e-02  7.02888606e-02 -4.92794183e-02\n",
      "   2.67968780e-02  1.30692838e-02]\n",
      " [ 4.60990840e-03  5.26103090e-02  2.71634410e-02 -1.16693794e-02\n",
      "   4.78201997e-03 -1.41884392e-02 -1.93102296e-02  1.60172683e-02\n",
      "  -1.02753164e-02 -9.12544294e-03]\n",
      " [ 8.91933903e-03 -1.45321701e-03 -6.02972725e-03 -1.26518983e-02\n",
      "   1.87590170e-02 -1.86557500e-03 -1.03040647e-03 -3.06065370e-03\n",
      "   3.74135084e-03  1.64869548e-02]\n",
      " [-1.80787752e-02 -1.95586058e-03  2.18234938e-02  1.71821850e-02\n",
      "   9.29409949e-03  2.92236486e-02 -6.90879731e-03  5.80768721e-03\n",
      "  -2.41521397e-02 -8.12966148e-03]\n",
      " [-2.92240633e-02 -8.69632471e-02  5.29740827e-02  7.06904173e-02\n",
      "  -8.23825497e-02  1.59020052e-01 -8.31047545e-02  4.09887613e-02\n",
      "  -1.19982428e-01  1.29087872e-02]\n",
      " [ 5.18127635e-02 -2.26060915e-02  1.95457018e-02  4.32579348e-02\n",
      "  -9.08993655e-02  8.11216734e-02 -6.12944724e-02 -8.52821987e-02\n",
      "   8.79510127e-03 -4.22059591e-04]\n",
      " [-1.22261991e-02  2.10069694e-02  2.92622757e-02  4.43721105e-03\n",
      "  -4.71998679e-02 -1.62300423e-03  2.65015340e-02 -1.43735928e-01\n",
      "   9.42133561e-02  2.48381853e-02]\n",
      " [-3.96999988e-02  8.86344550e-02  1.35913427e-01  2.75873689e-02\n",
      "  -7.89988838e-02 -4.26675703e-02  1.05906122e-01 -1.45923294e-01\n",
      "  -9.56488098e-03 -2.60732274e-02]\n",
      " [-2.09193893e-02  7.56393145e-02  1.36209311e-01 -6.29171117e-04\n",
      "  -3.52382029e-02 -6.39359014e-02  2.16687291e-02 -1.60207975e-02\n",
      "  -4.99411168e-02 -1.97684962e-02]\n",
      " [-1.80770185e-02  8.40919161e-02  4.04287100e-02 -2.54969482e-02\n",
      "  -1.57549237e-02 -1.99808526e-02 -2.39220025e-02  7.57158864e-04\n",
      "  -2.19053308e-02 -1.73218038e-02]]\n",
      "\n",
      "bias \n",
      " [[ 7.94571358e-04 -7.70310587e-03 -9.40027047e-05  1.95849580e-03\n",
      "   4.12420974e-03 -2.88482029e-04 -1.08827795e-03  2.10676602e-03\n",
      "   1.61926549e-03 -1.42943984e-03]]\n"
     ]
    }
   ],
   "source": [
    "lr=0.01\n",
    "epoch=1000\n",
    "\n",
    "\n",
    "all_loss=[]\n",
    "while(epoch):\n",
    "    epoch-=1\n",
    "    z=np.dot(X,w)+b\n",
    "    \n",
    "    zz=np.transpose(z)\n",
    "    e_x = np.exp(zz - np.max(zz))\n",
    "    A=e_x / e_x.sum(axis=0)\n",
    "    A=np.transpose(A)\n",
    "    \n",
    "    dz=A-y_onehot\n",
    "    dw=np.dot(np.transpose(X),dz)\n",
    "    dw=dw/len(dz)\n",
    "    db=sum(dz)/len(dz)\n",
    "    \n",
    "    w=w-lr*dw\n",
    "    b=b-lr*db\n",
    "    \n",
    "    loss=-np.sum( y_onehot*np.log(A) , axis=1)\n",
    "    avg_los=np.sum(loss)/len(loss)\n",
    "    all_loss.append(avg_los)\n",
    "\n",
    "print(\"Weights\\n \",w)\n",
    "print(\"\\nbias \\n\", b) \n"
   ]
  },
  {
   "cell_type": "code",
   "execution_count": 24,
   "metadata": {},
   "outputs": [
    {
     "name": "stdout",
     "output_type": "stream",
     "text": [
      "plot the loss\n"
     ]
    },
    {
     "data": {
      "image/png": "[encoded data removed]",
      "text/plain": [
       "<Figure size 432x288 with 1 Axes>"
      ]
     },
     "metadata": {
      "needs_background": "light"
     },
     "output_type": "display_data"
    }
   ],
   "source": [
    "#print(all_loss)\n",
    "print(\"plot the loss\")\n",
    "plt.plot(all_loss)\n",
    "plt.show()"
   ]
  },
  {
   "cell_type": "markdown",
   "metadata": {},
   "source": [
    "### Prediction on the X_test data"
   ]
  },
  {
   "cell_type": "code",
   "execution_count": 25,
   "metadata": {},
   "outputs": [
    {
     "name": "stdout",
     "output_type": "stream",
     "text": [
      "[[1.76926266e-07 1.96883952e-02 1.10465014e-08 ... 2.53359147e-05\n",
      "  1.19767154e-04 2.54266476e-08]\n",
      " [3.95607315e-07 9.73633708e-01 3.47777928e-04 ... 4.72850596e-05\n",
      "  7.87008384e-03 1.58287234e-03]\n",
      " [1.44426736e-07 1.88382881e-04 3.17300051e-10 ... 2.88676306e-05\n",
      "  6.68667173e-07 5.05250865e-10]\n",
      " ...\n",
      " [3.56064673e-08 1.07337774e-06 6.85390351e-05 ... 9.99892733e-01\n",
      "  3.39829604e-06 1.02377977e-06]\n",
      " [9.99100896e-01 6.32068574e-07 5.53166121e-05 ... 2.71691744e-05\n",
      "  5.63328621e-04 1.68269349e-04]\n",
      " [1.59647267e-05 3.55870999e-03 9.94917338e-01 ... 2.94648906e-04\n",
      "  9.55111651e-04 3.07630411e-08]]\n"
     ]
    }
   ],
   "source": [
    "z=np.dot(X_test,w)+b\n",
    "\n",
    "zz=np.transpose(z)\n",
    "e_x = np.exp(zz - np.max(zz))\n",
    "A=e_x / e_x.sum(axis=0)\n",
    "A=np.transpose(A)\n",
    "\n",
    "print(A)"
   ]
  },
  {
   "cell_type": "code",
   "execution_count": 26,
   "metadata": {},
   "outputs": [
    {
     "name": "stdout",
     "output_type": "stream",
     "text": [
      "predicted \n",
      " [[0. 0. 0. ... 0. 0. 0.]\n",
      " [0. 1. 0. ... 0. 0. 0.]\n",
      " [0. 0. 0. ... 0. 0. 0.]\n",
      " ...\n",
      " [0. 0. 0. ... 1. 0. 0.]\n",
      " [1. 0. 0. ... 0. 0. 0.]\n",
      " [0. 0. 1. ... 0. 0. 0.]]\n",
      "\n",
      "Original \n",
      " [[0. 0. 0. ... 0. 0. 0.]\n",
      " [0. 1. 0. ... 0. 0. 0.]\n",
      " [0. 0. 0. ... 0. 0. 0.]\n",
      " ...\n",
      " [0. 0. 0. ... 1. 0. 0.]\n",
      " [1. 0. 0. ... 0. 0. 0.]\n",
      " [0. 0. 1. ... 0. 0. 0.]]\n",
      "\n",
      "Accuracy :->  98.33333333333333 %\n"
     ]
    }
   ],
   "source": [
    "k=0\n",
    "for i in A:\n",
    "    idx=i.tolist().index(max(i))\n",
    "    A[k]=([0 if j!=idx else 1 for j in range(len(i))])\n",
    "    k+=1\n",
    "\n",
    "\n",
    "print(\"predicted \\n\",A)\n",
    "print()\n",
    "print(\"Original \\n\",y_test_onehot)\n",
    "\n",
    "cunt=0\n",
    "for i,j in zip(A,y_test_onehot):\n",
    "    result= i==j\n",
    "    #print(result)\n",
    "    if(all(result)):\n",
    "        cunt+=1\n",
    "\n",
    "#print(cunt)\n",
    "print()\n",
    "print(\"Accuracy :-> \",(cunt/len(y_test_onehot))*100,\"%\")"
   ]
  },
  {
   "cell_type": "markdown",
   "metadata": {},
   "source": [
    "# Task_6 complete .................."
   ]
  }
 ],
 "metadata": {
  "kernelspec": {
   "display_name": "Python 3",
   "language": "python",
   "name": "python3"
  },
  "language_info": {
   "codemirror_mode": {
    "name": "ipython",
    "version": 3
   },
   "file_extension": ".py",
   "mimetype": "text/x-python",
   "name": "python",
   "nbconvert_exporter": "python",
   "pygments_lexer": "ipython3",
   "version": "3.7.3"
  },
  "metadata": {
   "deletable": false,
   "editable": false,
   "trusted": true
  }
 },
 "nbformat": 4,
 "nbformat_minor": 2
}
