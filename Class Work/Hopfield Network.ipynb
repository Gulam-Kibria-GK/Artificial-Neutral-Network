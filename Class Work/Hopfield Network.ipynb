{
 "cells": [
  {
   "cell_type": "markdown",
   "metadata": {},
   "source": [
    "#### CSE 452: Neural Networks and Fuzzy Systems Lab\n",
    "Summer-2020, Dept. of CSE, NEUB <br>"
   ]
  },
  {
   "cell_type": "markdown",
   "metadata": {},
   "source": [
    "#### Student Info\n",
    "<b>Name:</b> Gulam Kibria Chowdhury<br>\n",
    "<b>Reg. No:</b> 170103020033"
   ]
  },
  {
   "cell_type": "markdown",
   "metadata": {},
   "source": [
    "## Assignment 3: Hopfield\n",
    "\n",
    "$$ dw=x.x^T -I \\space \\space \\\\ where \\space \\space I =\\space identity \\space matrix.$$  \n",
    "$$w=w+dw$$\n",
    "\n",
    "<b>Energy</b>\n",
    "$$E=\\frac{−1}{2} \\sum_{j=1}^n  \\sum_{i=1}^n w_{ij}x_i x_j$$\n",
    "\n",
    "In terms of linear algebra, simpler version is \n",
    "$$E = -\\frac{1}{2} x^T.W.x$$"
   ]
  },
  {
   "cell_type": "code",
   "execution_count": 1,
   "metadata": {},
   "outputs": [],
   "source": [
    "import numpy as np  \n",
    "import matplotlib.pyplot as plt   "
   ]
  },
  {
   "cell_type": "code",
   "execution_count": 2,
   "metadata": {},
   "outputs": [],
   "source": [
    "#Neurons=9\n",
    "N=9"
   ]
  },
  {
   "cell_type": "code",
   "execution_count": 3,
   "metadata": {},
   "outputs": [],
   "source": [
    "x1=np.array([1,1,1, 0,0,0, 0,0,0])\n",
    "x2=np.array([0,0,0, 0,0,0, 1,1,1])\n",
    "x3=np.array([0,0,0, 1,1,1, 0,0,0])"
   ]
  },
  {
   "cell_type": "code",
   "execution_count": 4,
   "metadata": {},
   "outputs": [
    {
     "name": "stdout",
     "output_type": "stream",
     "text": [
      "[[0. 0. 0. 0. 0. 0. 0. 0. 0.]\n",
      " [0. 0. 0. 0. 0. 0. 0. 0. 0.]\n",
      " [0. 0. 0. 0. 0. 0. 0. 0. 0.]\n",
      " [0. 0. 0. 0. 0. 0. 0. 0. 0.]\n",
      " [0. 0. 0. 0. 0. 0. 0. 0. 0.]\n",
      " [0. 0. 0. 0. 0. 0. 0. 0. 0.]\n",
      " [0. 0. 0. 0. 0. 0. 0. 0. 0.]\n",
      " [0. 0. 0. 0. 0. 0. 0. 0. 0.]\n",
      " [0. 0. 0. 0. 0. 0. 0. 0. 0.]]\n"
     ]
    }
   ],
   "source": [
    "w=np.zeros((N,N))\n",
    "print(w)"
   ]
  },
  {
   "cell_type": "markdown",
   "metadata": {},
   "source": [
    "<b>Task 1: Train x1</b>\n",
    "Train x1 and update w and calculate energy.<br>\n",
    "<b>updated w</b> should look like the following. <br>\n",
    "       [ 0.,  1.,  1., -1., -1., -1., -1., -1., -1.],<br>\n",
    "       [ 1.,  0.,  1., -1., -1., -1., -1., -1., -1.],<br>\n",
    "       [ 1.,  1.,  0., -1., -1., -1., -1., -1., -1.],<br>\n",
    "       [-1., -1., -1.,  0.,  1.,  1.,  1.,  1.,  1.],<br>\n",
    "       [-1., -1., -1.,  1.,  0.,  1.,  1.,  1.,  1.],<br>\n",
    "       [-1., -1., -1.,  1.,  1.,  0.,  1.,  1.,  1.],<br>\n",
    "       [-1., -1., -1.,  1.,  1.,  1.,  0.,  1.,  1.],<br>\n",
    "       [-1., -1., -1.,  1.,  1.,  1.,  1.,  0.,  1.],<br>\n",
    "       [-1., -1., -1.,  1.,  1.,  1.,  1.,  1.,  0.]]<br>\n",
    "       \n",
    "energy should be=-36"
   ]
  },
  {
   "cell_type": "code",
   "execution_count": 5,
   "metadata": {
    "scrolled": true
   },
   "outputs": [
    {
     "name": "stdout",
     "output_type": "stream",
     "text": [
      "x1: \n",
      " [ 1  1  1 -1 -1 -1 -1 -1 -1] \n",
      "\n",
      "x1_T: \n",
      " [[ 1]\n",
      " [ 1]\n",
      " [ 1]\n",
      " [-1]\n",
      " [-1]\n",
      " [-1]\n",
      " [-1]\n",
      " [-1]\n",
      " [-1]] \n",
      "\n",
      "Upadate W: \n",
      " [[ 0.  1.  1. -1. -1. -1. -1. -1. -1.]\n",
      " [ 1.  0.  1. -1. -1. -1. -1. -1. -1.]\n",
      " [ 1.  1.  0. -1. -1. -1. -1. -1. -1.]\n",
      " [-1. -1. -1.  0.  1.  1.  1.  1.  1.]\n",
      " [-1. -1. -1.  1.  0.  1.  1.  1.  1.]\n",
      " [-1. -1. -1.  1.  1.  0.  1.  1.  1.]\n",
      " [-1. -1. -1.  1.  1.  1.  0.  1.  1.]\n",
      " [-1. -1. -1.  1.  1.  1.  1.  0.  1.]\n",
      " [-1. -1. -1.  1.  1.  1.  1.  1.  0.]]\n",
      "\n",
      "Energy = -36.0\n"
     ]
    }
   ],
   "source": [
    "#your code goes here.\n",
    "x1[x1==0]=-1\n",
    "print(\"x1: \\n\",x1,\"\\n\")\n",
    "x1_T=x1.reshape(-1, 1)\n",
    "print(\"x1_T: \\n\",x1_T,\"\\n\")\n",
    "new_w=(x1*x1_T)\n",
    "for i in range(0,len(x1)):\n",
    "    new_w[i][i]=0\n",
    "\n",
    "w=w+new_w\n",
    "\n",
    "print(\"Upadate W: \\n\",w)\n",
    "\n",
    "xx=np.dot(w,x1.T)\n",
    "E=np.dot(xx,x1)*(-0.5)\n",
    "print(\"\\nEnergy =\",E)\n"
   ]
  },
  {
   "cell_type": "markdown",
   "metadata": {},
   "source": [
    "# Task_1 complete ..................."
   ]
  },
  {
   "cell_type": "markdown",
   "metadata": {},
   "source": [
    "<b>Task 2: Train x2</b>\n",
    "Train x2 and update w and calculate energy.<br>"
   ]
  },
  {
   "cell_type": "code",
   "execution_count": 6,
   "metadata": {},
   "outputs": [
    {
     "name": "stdout",
     "output_type": "stream",
     "text": [
      "x2: \n",
      " [-1 -1 -1 -1 -1 -1  1  1  1] \n",
      "\n",
      "x2_T: \n",
      " [[-1]\n",
      " [-1]\n",
      " [-1]\n",
      " [-1]\n",
      " [-1]\n",
      " [-1]\n",
      " [ 1]\n",
      " [ 1]\n",
      " [ 1]] \n",
      "\n",
      "Upadate W: \n",
      " [[ 0.  2.  2.  0.  0.  0. -2. -2. -2.]\n",
      " [ 2.  0.  2.  0.  0.  0. -2. -2. -2.]\n",
      " [ 2.  2.  0.  0.  0.  0. -2. -2. -2.]\n",
      " [ 0.  0.  0.  0.  2.  2.  0.  0.  0.]\n",
      " [ 0.  0.  0.  2.  0.  2.  0.  0.  0.]\n",
      " [ 0.  0.  0.  2.  2.  0.  0.  0.  0.]\n",
      " [-2. -2. -2.  0.  0.  0.  0.  2.  2.]\n",
      " [-2. -2. -2.  0.  0.  0.  2.  0.  2.]\n",
      " [-2. -2. -2.  0.  0.  0.  2.  2.  0.]]\n",
      "\n",
      "Energy = -36.0\n"
     ]
    }
   ],
   "source": [
    "#your code goes here.\n",
    "\n",
    "x2[x2==0]=-1\n",
    "print(\"x2: \\n\",x2,\"\\n\")\n",
    "x2_T=x2.reshape(-1, 1)\n",
    "print(\"x2_T: \\n\",x2_T,\"\\n\")\n",
    "new_w=(x2*x2_T)\n",
    "for i in range(0,len(x2)):\n",
    "    new_w[i][i]=0\n",
    "\n",
    "w=w+new_w\n",
    "\n",
    "print(\"Upadate W: \\n\",w)\n",
    "\n",
    "xx=np.dot(w,x2.T)\n",
    "E=np.dot(xx,x2)*(-0.5)\n",
    "print(\"\\nEnergy =\",E)"
   ]
  },
  {
   "cell_type": "markdown",
   "metadata": {},
   "source": [
    "# Task_2 complete ..................."
   ]
  },
  {
   "cell_type": "markdown",
   "metadata": {},
   "source": [
    "<b>Task 3: Train x3</b>\n",
    "Train x3 and update w and calculate energy.<br>"
   ]
  },
  {
   "cell_type": "code",
   "execution_count": 7,
   "metadata": {},
   "outputs": [
    {
     "name": "stdout",
     "output_type": "stream",
     "text": [
      "x3: \n",
      " [-1 -1 -1  1  1  1 -1 -1 -1] \n",
      "\n",
      "x3_T: \n",
      " [[-1]\n",
      " [-1]\n",
      " [-1]\n",
      " [ 1]\n",
      " [ 1]\n",
      " [ 1]\n",
      " [-1]\n",
      " [-1]\n",
      " [-1]] \n",
      "\n",
      "Upadate W: \n",
      " [[ 0.  3.  3. -1. -1. -1. -1. -1. -1.]\n",
      " [ 3.  0.  3. -1. -1. -1. -1. -1. -1.]\n",
      " [ 3.  3.  0. -1. -1. -1. -1. -1. -1.]\n",
      " [-1. -1. -1.  0.  3.  3. -1. -1. -1.]\n",
      " [-1. -1. -1.  3.  0.  3. -1. -1. -1.]\n",
      " [-1. -1. -1.  3.  3.  0. -1. -1. -1.]\n",
      " [-1. -1. -1. -1. -1. -1.  0.  3.  3.]\n",
      " [-1. -1. -1. -1. -1. -1.  3.  0.  3.]\n",
      " [-1. -1. -1. -1. -1. -1.  3.  3.  0.]]\n",
      "\n",
      "Energy = -36.0\n"
     ]
    }
   ],
   "source": [
    "#your code goes here.\n",
    "\n",
    "x3[x3==0]=-1\n",
    "print(\"x3: \\n\",x3,\"\\n\")\n",
    "x3_T=x3.reshape(-1, 1)\n",
    "print(\"x3_T: \\n\",x3_T,\"\\n\")\n",
    "new_w=(x3*x3_T)\n",
    "for i in range(0,len(x3)):\n",
    "    new_w[i][i]=0\n",
    "\n",
    "w=w+new_w\n",
    "\n",
    "print(\"Upadate W: \\n\",w)\n",
    "\n",
    "xx=np.dot(w,x3.T)\n",
    "E=np.dot(xx,x3)*(-0.5)\n",
    "print(\"\\nEnergy =\",E)"
   ]
  },
  {
   "cell_type": "markdown",
   "metadata": {},
   "source": [
    "# Task_3 complete ..................."
   ]
  },
  {
   "cell_type": "markdown",
   "metadata": {},
   "source": [
    "<b>Task 4: Asynchronous recovery</b> <br>\n",
    "tx=np.array([0,0,0, 1,0,0, 0,0,0])  <br>\n",
    "\n",
    "1. choose i randomly\n",
    "2. update ith element of partial pattern tx \n",
    "3. Repeat step 2 for some time.\n",
    "\n",
    "$$x_i=sign(w_i.x)$$\n",
    "\n",
    "It should converge to a known pattern <br>[0, 0, 0, 1, 1, 1, 0, 0, 0]"
   ]
  },
  {
   "cell_type": "code",
   "execution_count": 8,
   "metadata": {},
   "outputs": [
    {
     "name": "stdout",
     "output_type": "stream",
     "text": [
      "Recovery The pattern :\n",
      " [0 0 0 1 1 1 0 0 0]\n"
     ]
    }
   ],
   "source": [
    "#your code goes here.\n",
    "\n",
    "def activate(val):\n",
    "        if val>=0:\n",
    "            return 1\n",
    "        else:\n",
    "            return -1\n",
    "\n",
    "def SUM(k,h):\n",
    "    val=0\n",
    "    for i,j in zip(k,h):  \n",
    "        val=val+(i*j)\n",
    "    return val   \n",
    "def check(xx,yy):\n",
    "    f=0\n",
    "    for i,j in zip(xx,yy):\n",
    "        if(i==j):\n",
    "            f+=1\n",
    "    if(f==len(xx)):\n",
    "        return 1\n",
    "    else:\n",
    "        return 0\n",
    "\n",
    "\n",
    "from random import randrange\n",
    "tx=np.array([0,0,0, 1,0,0, 0,0,0])\n",
    "tx[tx==0]=-1\n",
    "#print(tx)\n",
    "while True:\n",
    "    if(check(tx,x1)):  \n",
    "        break\n",
    "    elif(check(tx,x2)): \n",
    "        break\n",
    "    elif(check(tx,x3)): \n",
    "        break\n",
    "    rnd=randrange(len(tx))\n",
    "    #print(rnd)\n",
    "    summ=SUM(w[rnd],tx);\n",
    "    #print(summ)\n",
    "    tx[rnd]=activate(summ)\n",
    "    #print(rnd,tx[rnd])\n",
    "    #print(tx)\n",
    "    \n",
    "tx[tx==-1]=0\n",
    "print(\"Recovery The pattern :\\n\",tx)"
   ]
  },
  {
   "cell_type": "markdown",
   "metadata": {},
   "source": [
    "# Task_4 complete ..................."
   ]
  }
 ],
 "metadata": {
  "kernelspec": {
   "display_name": "Python 3",
   "language": "python",
   "name": "python3"
  },
  "language_info": {
   "codemirror_mode": {
    "name": "ipython",
    "version": 3
   },
   "file_extension": ".py",
   "mimetype": "text/x-python",
   "name": "python",
   "nbconvert_exporter": "python",
   "pygments_lexer": "ipython3",
   "version": "3.7.3"
  },
  "metadata": {
   "deletable": false,
   "editable": false,
   "trusted": true
  }
 },
 "nbformat": 4,
 "nbformat_minor": 2
}
